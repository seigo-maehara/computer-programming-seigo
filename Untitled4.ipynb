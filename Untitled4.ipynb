{
 "cells": [
  {
   "cell_type": "code",
   "execution_count": 3,
   "id": "917958f3-2485-406e-81bd-a1649570c35d",
   "metadata": {
    "tags": []
   },
   "outputs": [
    {
     "name": "stdin",
     "output_type": "stream",
     "text": [
      " 渋谷駅,池尻大橋駅,三軒茶屋駅,駒沢大学駅,桜新町駅,用賀駅,二子玉川駅,二子新地駅,高津駅,溝の口駅,梶が谷駅,宮崎台駅,宮前平駅,鷺沼駅,たまプラーザ駅,あざみ野駅,江田駅,市が尾駅,藤が丘駅,青葉台駅,田奈駅,長津田駅,つくし野駅,すずかけ台駅,南町田グランベリーパーク駅,つきみ野駅,中央林間駅,boundary,渋谷駅,三軒茶屋駅,二子玉川駅,溝の口駅,鷺沼駅,たまプラーザ駅,あざみ野駅,青葉台駅,長津田駅,南町田グランベリーパーク駅,中央林間駅\n"
     ]
    },
    {
     "name": "stdout",
     "output_type": "stream",
     "text": [
      "[1, 3, 2, 3, 0, 0, 3, 1, 2, 1]\n"
     ]
    }
   ],
   "source": [
    "input_string = input().split(\",\")\n",
    "i = input_string.index(\"boundary\")\n",
    "list = input_string[:i]\n",
    "exlist = input_string[i+1:]\n",
    "express_index = [list.index(station) for station in list if station in exlist]\n",
    "express_index_dif = [express_index[i + 1] - express_index[i] - 1 for i in range(len(express_index) - 1)]\n",
    "print(express_index_dif)"
   ]
  }
 ],
 "metadata": {
  "kernelspec": {
   "display_name": "Python 3 (ipykernel)",
   "language": "python",
   "name": "python3"
  },
  "language_info": {
   "codemirror_mode": {
    "name": "ipython",
    "version": 3
   },
   "file_extension": ".py",
   "mimetype": "text/x-python",
   "name": "python",
   "nbconvert_exporter": "python",
   "pygments_lexer": "ipython3",
   "version": "3.11.7"
  }
 },
 "nbformat": 4,
 "nbformat_minor": 5
}
