{
 "cells": [
  {
   "cell_type": "code",
   "execution_count": 16,
   "id": "1ea93a9b-fd4a-4994-b839-f639218122f6",
   "metadata": {
    "tags": []
   },
   "outputs": [
    {
     "name": "stdin",
     "output_type": "stream",
     "text": [
      " Line([ '渋谷駅' ,'神泉駅' ,'駒場東大前駅' ,'池ノ上駅' ,'下北沢駅' ,'新代田駅' ,'東松原駅' ,'明大前駅' ,'永福町駅' ,'西永福駅' ,'浜田山駅' ,'高井戸駅' ,'富士見ヶ丘駅' ,'久我山駅' ,'三鷹台駅' ,'井の頭公園駅' ,'吉祥寺駅'],[ '渋谷駅' ,'下北沢駅' ,'明大前駅' ,'永福町駅' ,'久我山駅' ,'吉祥寺駅']).prev_exp('明大前駅')\n"
     ]
    },
    {
     "name": "stdout",
     "output_type": "stream",
     "text": [
      "下北沢駅\n"
     ]
    }
   ],
   "source": [
    "class Line:\n",
    "    def __init__(self,arr1,arr2):\n",
    "        self.arr1 = arr1\n",
    "        self.arr2 = arr2\n",
    "    \n",
    "    def next(self,s):\n",
    "        return print(str(self.arr1[self.arr1.index(s) + 1]))\n",
    "    \n",
    "    def prev(self,s):\n",
    "        return print(str(self.arr1[self.arr1.index(s) - 1]))\n",
    "    \n",
    "    def next_exp(self,s):\n",
    "        return print(str(self.arr2[self.arr2.index(s) + 1]))\n",
    "    \n",
    "    def prev_exp(self,s):\n",
    "        return print(str(self.arr2[self.arr2.index(s) - 1]))\n",
    "\n",
    "exec(input())"
   ]
  },
  {
   "cell_type": "code",
   "execution_count": 20,
   "id": "d76e03b9-9f3f-419f-901f-c2a04094e98f",
   "metadata": {
    "tags": []
   },
   "outputs": [
    {
     "name": "stdin",
     "output_type": "stream",
     "text": [
      " Line2([ '渋谷駅' ,'神泉駅' ,'駒場東大前駅' ,'池ノ上駅' ,'下北沢駅' ,'新代田駅' ,'東松原駅' ,'明大前駅' ,'永福町駅' ,'西永福駅' ,'浜田山駅' ,'高井戸駅' ,'富士見ヶ丘駅' ,'久我山駅' ,'三鷹台駅' ,'井の頭公園駅' ,'吉祥寺駅'],[ '渋谷駅' ,'下北沢駅' ,'明大前駅' ,'永福町駅' ,'久我山駅' ,'吉祥寺駅']).next_exp('明大駅')\n"
     ]
    },
    {
     "ename": "ValueError",
     "evalue": "'明大駅' is not in list",
     "output_type": "error",
     "traceback": [
      "\u001b[0;31m---------------------------------------------------------------------------\u001b[0m",
      "\u001b[0;31mValueError\u001b[0m                                Traceback (most recent call last)",
      "Cell \u001b[0;32mIn[20], line 12\u001b[0m\n\u001b[1;32m      9\u001b[0m         \u001b[38;5;28;01melse\u001b[39;00m:\n\u001b[1;32m     10\u001b[0m             \u001b[38;5;28;01mpass\u001b[39;00m\n\u001b[0;32m---> 12\u001b[0m exec(\u001b[38;5;28minput\u001b[39m())\n",
      "File \u001b[0;32m<string>:1\u001b[0m\n",
      "Cell \u001b[0;32mIn[16], line 13\u001b[0m, in \u001b[0;36mLine.next_exp\u001b[0;34m(self, s)\u001b[0m\n\u001b[1;32m     12\u001b[0m \u001b[38;5;28;01mdef\u001b[39;00m \u001b[38;5;21mnext_exp\u001b[39m(\u001b[38;5;28mself\u001b[39m,s):\n\u001b[0;32m---> 13\u001b[0m     \u001b[38;5;28;01mreturn\u001b[39;00m \u001b[38;5;28mprint\u001b[39m(\u001b[38;5;28mstr\u001b[39m(\u001b[38;5;28mself\u001b[39m\u001b[38;5;241m.\u001b[39marr2[\u001b[38;5;28mself\u001b[39m\u001b[38;5;241m.\u001b[39marr2\u001b[38;5;241m.\u001b[39mindex(s) \u001b[38;5;241m+\u001b[39m \u001b[38;5;241m1\u001b[39m]))\n",
      "\u001b[0;31mValueError\u001b[0m: '明大駅' is not in list"
     ]
    }
   ],
   "source": [
    "class Line2(Line):\n",
    "    def __nonexist__(self,s):\n",
    "        if  s not in self.arr1:\n",
    "            return \"no such atation exist.\"\n",
    "        elif s in self.arr1 and x not in self.arr2:\n",
    "            return \"express does not stop at this station.\"\n",
    "        elif self.arr1.index(s) == 0 or self.arr1.index(s) == -1:\n",
    "            return \"input is a terminal station.\"\n",
    "        else:\n",
    "            pass\n",
    "\n",
    "exec(input())\n"
   ]
  }
 ],
 "metadata": {
  "kernelspec": {
   "display_name": "Python 3 (ipykernel)",
   "language": "python",
   "name": "python3"
  },
  "language_info": {
   "codemirror_mode": {
    "name": "ipython",
    "version": 3
   },
   "file_extension": ".py",
   "mimetype": "text/x-python",
   "name": "python",
   "nbconvert_exporter": "python",
   "pygments_lexer": "ipython3",
   "version": "3.11.7"
  }
 },
 "nbformat": 4,
 "nbformat_minor": 5
}
