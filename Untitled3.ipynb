{
 "cells": [
  {
   "cell_type": "code",
   "execution_count": 3,
   "id": "c41a61bc-b4bd-40f4-82ae-8642b8da8ce4",
   "metadata": {
    "tags": []
   },
   "outputs": [
    {
     "name": "stdin",
     "output_type": "stream",
     "text": [
      " 渋谷駅,神泉駅,駒場東大前駅,池ノ上駅,下北沢駅,新代田駅,東松原駅,明大前駅,永福町駅,西永福駅,浜田山駅,高井戸駅,富士見ヶ丘駅,久我山駅,三鷹台駅,井の頭公園駅,吉祥寺駅\n"
     ]
    },
    {
     "name": "stdout",
     "output_type": "stream",
     "text": [
      "['渋谷駅', '神泉駅', '駒場駅', '東大前駅', '下北沢駅', '新代田駅', '東松原駅', '明大前駅', '永福町駅', '西永福駅', '浜田山駅', '高井戸駅', '富士見ヶ丘駅', '久我山駅', '三鷹台駅', '井の頭公園駅', '吉祥寺駅']\n"
     ]
    }
   ],
   "source": [
    "input_string = input()\n",
    "inogasira_list = input_string.split(\",\")\n",
    "if \"駒場東大前駅\" in inogasira_list:\n",
    "    i = inogasira_list.index(\"駒場東大前駅\")\n",
    "    inogasira_new = inogasira_list[:i] + [\"駒場駅\",\"東大前駅\"] + inogasira_list[i+2:]\n",
    "    print(inogasira_new)\n",
    "else:\n",
    "    print(\"error\")"
   ]
  }
 ],
 "metadata": {
  "kernelspec": {
   "display_name": "Python 3 (ipykernel)",
   "language": "python",
   "name": "python3"
  },
  "language_info": {
   "codemirror_mode": {
    "name": "ipython",
    "version": 3
   },
   "file_extension": ".py",
   "mimetype": "text/x-python",
   "name": "python",
   "nbconvert_exporter": "python",
   "pygments_lexer": "ipython3",
   "version": "3.11.7"
  }
 },
 "nbformat": 4,
 "nbformat_minor": 5
}
