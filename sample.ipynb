{
 "cells": [
  {
   "cell_type": "code",
   "execution_count": 4,
   "metadata": {},
   "outputs": [
    {
     "name": "stdout",
     "output_type": "stream",
     "text": [
      "False\n"
     ]
    }
   ],
   "source": [
    "class Comp:\n",
    "    def __init__(self, a, b):\n",
    "        self.real = a\n",
    "        self.imagine = b\n",
    "    \n",
    "    def __str__(self):\n",
    "        if self.imagine == 0:\n",
    "            return str(self.real)\n",
    "        elif self.imagine < 0:\n",
    "            return f\"{self.real} - {abs(self.imagine)}i\"\n",
    "        else:\n",
    "            return f\"{self.real} + {self.imagine}i\"\n",
    "\n",
    "    def __eq__(self, other):\n",
    "        return self.real ** 2 + self.imagine ** 2 == other.real ** 2 + other.imagine ** 2\n",
    "\n",
    "    def __gt__(self, other):\n",
    "        return self.real ** 2 + self.imagine ** 2 > other.real ** 2 + other.imagine ** 2\n",
    "\n",
    "\n",
    "exec(input())\n"
   ]
  }
 ],
 "metadata": {
  "kernelspec": {
   "display_name": "base",
   "language": "python",
   "name": "python3"
  },
  "language_info": {
   "codemirror_mode": {
    "name": "ipython",
    "version": 3
   },
   "file_extension": ".py",
   "mimetype": "text/x-python",
   "name": "python",
   "nbconvert_exporter": "python",
   "pygments_lexer": "ipython3",
   "version": "3.11.7"
  }
 },
 "nbformat": 4,
 "nbformat_minor": 2
}
