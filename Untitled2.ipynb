{
 "cells": [
  {
   "cell_type": "code",
   "execution_count": null,
   "id": "c7d8689c-49b7-4ad6-8853-25d397e37ff4",
   "metadata": {},
   "outputs": [],
   "source": [
    "x = input()\n"
   ]
  },
  {
   "cell_type": "code",
   "execution_count": 4,
   "id": "24ddf053-ea44-4e95-ab6a-3abde86fba3b",
   "metadata": {
    "tags": []
   },
   "outputs": [
    {
     "name": "stdin",
     "output_type": "stream",
     "text": [
      " 渋谷駅,神泉駅,駒場東大前駅,池ノ上駅,下北沢駅,新代田駅,東松原駅,明大前駅,永福町駅,西永福駅,浜田山駅,高井戸駅,富士見ヶ丘駅,久我山駅,三鷹台駅,井の頭公園駅,吉祥寺駅\n"
     ]
    },
    {
     "ename": "NameError",
     "evalue": "name 'input_string' is not defined",
     "output_type": "error",
     "traceback": [
      "\u001b[0;31m---------------------------------------------------------------------------\u001b[0m",
      "\u001b[0;31mNameError\u001b[0m                                 Traceback (most recent call last)",
      "Cell \u001b[0;32mIn[4], line 2\u001b[0m\n\u001b[1;32m      1\u001b[0m input_stirng \u001b[38;5;241m=\u001b[39m \u001b[38;5;28minput\u001b[39m()\n\u001b[0;32m----> 2\u001b[0m inogasira_list \u001b[38;5;241m=\u001b[39m input_string\u001b[38;5;241m.\u001b[39msplit(\u001b[38;5;124m\"\u001b[39m\u001b[38;5;124m,\u001b[39m\u001b[38;5;124m\"\u001b[39m)\n\u001b[1;32m      3\u001b[0m \u001b[38;5;28;01mif\u001b[39;00m \u001b[38;5;124m\"\u001b[39m\u001b[38;5;124m駒場東大前駅\u001b[39m\u001b[38;5;124m\"\u001b[39m \u001b[38;5;129;01min\u001b[39;00m inogasira_list:\n\u001b[1;32m      4\u001b[0m     i \u001b[38;5;241m=\u001b[39m inogasira_list\u001b[38;5;241m.\u001b[39mindex(\u001b[38;5;124m\"\u001b[39m\u001b[38;5;124m駒場東大前駅\u001b[39m\u001b[38;5;124m\"\u001b[39m)\n",
      "\u001b[0;31mNameError\u001b[0m: name 'input_string' is not defined"
     ]
    }
   ],
   "source": [
    "input_stirng = input()\n",
    "inogasira_list = input_string.split(\",\")\n",
    "if \"駒場東大前駅\" in inogasira_list:\n",
    "    i = inogasira_list.index(\"駒場東大前駅\")\n",
    "    inogasira_new = inogasira_list[:i] + [\"駒場駅\",\"東大前駅\"] + inogasira_list[i+2:]\n",
    "    print(inogasira_new)\n",
    "else:\n",
    "    print(\"error\")"
   ]
  }
 ],
 "metadata": {
  "kernelspec": {
   "display_name": "Python 3 (ipykernel)",
   "language": "python",
   "name": "python3"
  },
  "language_info": {
   "codemirror_mode": {
    "name": "ipython",
    "version": 3
   },
   "file_extension": ".py",
   "mimetype": "text/x-python",
   "name": "python",
   "nbconvert_exporter": "python",
   "pygments_lexer": "ipython3",
   "version": "3.11.7"
  }
 },
 "nbformat": 4,
 "nbformat_minor": 5
}
