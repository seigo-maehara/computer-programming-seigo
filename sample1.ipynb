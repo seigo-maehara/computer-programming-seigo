{
 "cells": [
  {
   "cell_type": "code",
   "execution_count": 45,
   "id": "c2e3a37b-9dc2-48c9-aa2f-a241452daa3c",
   "metadata": {
    "tags": []
   },
   "outputs": [],
   "source": [
    "class Date:\n",
    "    def __init__(self,y,m,d):\n",
    "        self.year = y\n",
    "        self.month = m\n",
    "        self.day = d\n",
    "    \n",
    "    def is_new_year_day(self):\n",
    "        return (self.month == 1) and (self.day == 1)\n",
    "    \n",
    "    def __str__(self):\n",
    "        return \"このインスタンスは\"+str(self.year)+\"年\"+str(self.month)+\"月\"+str(self.day)+\"日です。\"\n",
    "    \n",
    "    def __gt__(self,other):\n",
    "        if self.year > other.year:\n",
    "            return True\n",
    "        elif self.year < other.year:\n",
    "            return False\n",
    "        else:\n",
    "            if self.month > other.month:\n",
    "                return True\n",
    "            elif self.month < other.month:\n",
    "                return False\n",
    "            else:\n",
    "                if self.day > other.day:\n",
    "                    return True\n",
    "                elif self.day <= other.day:\n",
    "                    return False\n",
    "    \n",
    "    def __eq__(self,other):\n",
    "        if self.year == other.year and self.month == other.month and self.day == other.day:\n",
    "            return True\n",
    "        else:\n",
    "            return False"
   ]
  },
  {
   "cell_type": "code",
   "execution_count": 86,
   "id": "52492702-0c3a-42de-8fce-e02f2bd8dc41",
   "metadata": {
    "tags": []
   },
   "outputs": [
    {
     "name": "stdin",
     "output_type": "stream",
     "text": [
      " print(JDate(\"昭和\",62,2,3) == Date(1987,2,3) )\n"
     ]
    },
    {
     "name": "stdout",
     "output_type": "stream",
     "text": [
      "True\n"
     ]
    }
   ],
   "source": [
    "class JDate(Date):\n",
    "    def __init__(self,g,y,m,d):\n",
    "        if g == \"令和\":\n",
    "            self.year = y + 2018\n",
    "        elif g == \"平成\":\n",
    "            self.year = y + 1988\n",
    "        elif g == \"昭和\":\n",
    "            self.year = y + 1925\n",
    "        elif g == \"明治\":\n",
    "            self.year = y + 1867\n",
    "        else:\n",
    "            self.year = y\n",
    "        self.month = m\n",
    "        self.day = d\n",
    "    \n",
    "    def __str__(self):\n",
    "        if (self.year > 2019) or (self.year == 1989 and self.month > 5 ) or (self.year == 1989 and self.month == 5 and self.day >= 1):\n",
    "            gengo = \"令和\"\n",
    "            jyear = self.year - 2018\n",
    "        elif (self.year > 1989) or (self.year == 1989 and self.month > 1) or (self.year == 1989 and self.month == 1 and self.day >= 8):\n",
    "            gengo = \"平成\"\n",
    "            jyear = self.year - 1988\n",
    "        elif (self.year > 1926) or (self.year == 1926 and self.month == 12 and self.day >= 25):\n",
    "            gengo = \"昭和\"\n",
    "            jyear = self.year - 1925\n",
    "        elif (self.year > 1912) or (self.year == 1912 and self.month > 7) or (self.year == 1912 and self.month == 7 and self.day >= 30):\n",
    "            gengo = \"大正\"\n",
    "            jyear = self.year - 1911\n",
    "        elif (self.year > 1868) or (self.year == 1868 and self.month > 1) or (self.year == 1868 and self.month == 1 and self.day >= 25):\n",
    "            gengo = \"明治\"\n",
    "            jyear = self.year - 1867\n",
    "        else:\n",
    "            gengo = \"out-of-range\"\n",
    "            jyear = self.year\n",
    "        s = \"このインスタンスは元号\"+str(gengo)+str(jyear)+\"年\"+str(self.month)+\"月\"+str(self.day)+\"日です。\"\n",
    "        return s \n",
    "\n",
    "exec(input())\n"
   ]
  },
  {
   "cell_type": "code",
   "execution_count": null,
   "id": "cfbc7aef-a103-45a5-a766-212e8abd93d5",
   "metadata": {},
   "outputs": [],
   "source": [
    "class Line:\n",
    "    def __init__(self,arr1,arr2):\n",
    "        self.arr1 = arr1\n",
    "        self.arr2 = arr2\n",
    "    \n",
    "    def next(self,s):\n",
    "        return str(self.arr1[self.arr1.index(input()) + 1])\n",
    "    \n",
    "    def prev(self,s):\n",
    "        return str(self.arr1[self.arr1.index(input()) - 1])\n",
    "    \n",
    "    def next_exp(self,s):\n",
    "        return str(self.arr2[i = self.arr2.index(input()) + 1])\n",
    "    \n",
    "    def prev_exp(self,s):\n",
    "        return str(self.arr2[i = self.arr2.index(input()) - 1])\n",
    "\n",
    "exec(input())\n"
   ]
  }
 ],
 "metadata": {
  "kernelspec": {
   "display_name": "Python 3 (ipykernel)",
   "language": "python",
   "name": "python3"
  },
  "language_info": {
   "codemirror_mode": {
    "name": "ipython",
    "version": 3
   },
   "file_extension": ".py",
   "mimetype": "text/x-python",
   "name": "python",
   "nbconvert_exporter": "python",
   "pygments_lexer": "ipython3",
   "version": "3.11.7"
  }
 },
 "nbformat": 4,
 "nbformat_minor": 5
}
